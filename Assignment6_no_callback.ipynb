{
  "nbformat": 4,
  "nbformat_minor": 0,
  "metadata": {
    "colab": {
      "name": "Copy of Untitled1.ipynb",
      "version": "0.3.2",
      "provenance": [],
      "include_colab_link": true
    },
    "kernelspec": {
      "name": "python3",
      "display_name": "Python 3"
    }
  },
  "cells": [
    {
      "cell_type": "markdown",
      "metadata": {
        "id": "view-in-github",
        "colab_type": "text"
      },
      "source": [
        "<a href=\"https://colab.research.google.com/github/edgarquinto/Hello-world/blob/master/Assignment6_no_callback.ipynb\" target=\"_parent\"><img src=\"https://colab.research.google.com/assets/colab-badge.svg\" alt=\"Open In Colab\"/></a>"
      ]
    },
    {
      "cell_type": "code",
      "metadata": {
        "id": "sm7769kBm5Ca",
        "colab_type": "code",
        "outputId": "dc8270bd-1430-4c23-b3fe-352f070fb551",
        "colab": {
          "base_uri": "https://localhost:8080/",
          "height": 1000
        }
      },
      "source": [
        "# GRADED FUNCTION: train_mnist_conv\n",
        "import tensorflow as tf\n",
        "\n",
        "def train_mnist_conv():\n",
        "    # Please write your code only where you are indicated.\n",
        "    # please do not remove model fitting inline comments.\n",
        "\n",
        "    # YOUR CODE STARTS HERE\n",
        "    class myCallback(tf.keras.callbacks.Callback):\n",
        "      def on_epoch_end(self, epoch, logs={}):\n",
        "        if(logs.get('acc')>0.998):\n",
        "          print(\"\\nReached 99.8% accuracy so cancelling training!\")\n",
        "          self.model.stop_training = True\n",
        "\n",
        "    # YOUR CODE ENDS HERE\n",
        "\n",
        "    mnist = tf.keras.datasets.mnist\n",
        "    (training_images, training_labels), (test_images, test_labels) = mnist.load_data()\n",
        "    # YOUR CODE STARTS HERE\n",
        "    callbacks = myCallback()\n",
        "    training_images=training_images.reshape(60000, 28, 28, 1)\n",
        "    training_images=training_images / 255.0\n",
        "    test_images = test_images.reshape(10000, 28, 28, 1)\n",
        "    test_images=test_images/255.0\n",
        "    # YOUR CODE ENDS HERE\n",
        "\n",
        "    model = tf.keras.models.Sequential([\n",
        "            # YOUR CODE STARTS HERE\n",
        "            tf.keras.layers.Conv2D(64, (3,3), activation='relu', input_shape=(28, 28, 1)),\n",
        "            tf.keras.layers.MaxPooling2D(2, 2),\n",
        "            tf.keras.layers.Conv2D(64, (3,3), activation='relu'),\n",
        "            tf.keras.layers.MaxPooling2D(2,2),\n",
        "            tf.keras.layers.Flatten(),\n",
        "            tf.keras.layers.Dense(128, activation='relu'),\n",
        "            tf.keras.layers.Dense(10, activation='softmax')\n",
        "            # YOUR CODE ENDS HERE\n",
        "    ])\n",
        "\n",
        "    model.compile(optimizer='adam', loss='sparse_categorical_crossentropy', metrics=['accuracy'])\n",
        "    # model fitting\n",
        "    model.summary()\n",
        "    history = model.fit(\n",
        "        # YOUR CODE STARTS HERE\n",
        "    training_images, training_labels, epochs=20)\n",
        "    test_loss = model.evaluate(test_images, test_labels)\n",
        "        # YOUR CODE ENDS HERE\n",
        "    # model fitting\n",
        "    return history.epoch, history.history['acc'][-1]\n",
        "num_trials,historia=train_mnist_conv()"
      ],
      "execution_count": 0,
      "outputs": [
        {
          "output_type": "stream",
          "text": [
            "Downloading data from https://storage.googleapis.com/tensorflow/tf-keras-datasets/mnist.npz\n",
            "11493376/11490434 [==============================] - 0s 0us/step\n"
          ],
          "name": "stdout"
        },
        {
          "output_type": "stream",
          "text": [
            "WARNING: Logging before flag parsing goes to stderr.\n",
            "W0904 05:13:34.779984 140357251680128 deprecation.py:506] From /usr/local/lib/python3.6/dist-packages/tensorflow/python/ops/init_ops.py:1251: calling VarianceScaling.__init__ (from tensorflow.python.ops.init_ops) with dtype is deprecated and will be removed in a future version.\n",
            "Instructions for updating:\n",
            "Call initializer instance with the dtype argument instead of passing it to the constructor\n"
          ],
          "name": "stderr"
        },
        {
          "output_type": "stream",
          "text": [
            "Model: \"sequential\"\n",
            "_________________________________________________________________\n",
            "Layer (type)                 Output Shape              Param #   \n",
            "=================================================================\n",
            "conv2d (Conv2D)              (None, 26, 26, 64)        640       \n",
            "_________________________________________________________________\n",
            "max_pooling2d (MaxPooling2D) (None, 13, 13, 64)        0         \n",
            "_________________________________________________________________\n",
            "conv2d_1 (Conv2D)            (None, 11, 11, 64)        36928     \n",
            "_________________________________________________________________\n",
            "max_pooling2d_1 (MaxPooling2 (None, 5, 5, 64)          0         \n",
            "_________________________________________________________________\n",
            "flatten (Flatten)            (None, 1600)              0         \n",
            "_________________________________________________________________\n",
            "dense (Dense)                (None, 128)               204928    \n",
            "_________________________________________________________________\n",
            "dense_1 (Dense)              (None, 10)                1290      \n",
            "=================================================================\n",
            "Total params: 243,786\n",
            "Trainable params: 243,786\n",
            "Non-trainable params: 0\n",
            "_________________________________________________________________\n",
            "Epoch 1/20\n",
            "60000/60000 [==============================] - 84s 1ms/sample - loss: 0.1246 - acc: 0.9617\n",
            "Epoch 2/20\n",
            "60000/60000 [==============================] - 83s 1ms/sample - loss: 0.0402 - acc: 0.9876\n",
            "Epoch 3/20\n",
            "60000/60000 [==============================] - 82s 1ms/sample - loss: 0.0269 - acc: 0.9915\n",
            "Epoch 4/20\n",
            "60000/60000 [==============================] - 82s 1ms/sample - loss: 0.0200 - acc: 0.9937\n",
            "Epoch 5/20\n",
            "60000/60000 [==============================] - 82s 1ms/sample - loss: 0.0150 - acc: 0.9948\n",
            "Epoch 6/20\n",
            "60000/60000 [==============================] - 82s 1ms/sample - loss: 0.0117 - acc: 0.9963\n",
            "Epoch 7/20\n",
            "60000/60000 [==============================] - 83s 1ms/sample - loss: 0.0098 - acc: 0.9967\n",
            "Epoch 8/20\n",
            "60000/60000 [==============================] - 82s 1ms/sample - loss: 0.0077 - acc: 0.9976\n",
            "Epoch 9/20\n",
            "60000/60000 [==============================] - 82s 1ms/sample - loss: 0.0061 - acc: 0.9978\n",
            "Epoch 10/20\n",
            "60000/60000 [==============================] - 83s 1ms/sample - loss: 0.0058 - acc: 0.9980\n",
            "Epoch 11/20\n",
            "60000/60000 [==============================] - 82s 1ms/sample - loss: 0.0057 - acc: 0.9980\n",
            "Epoch 12/20\n",
            "60000/60000 [==============================] - 82s 1ms/sample - loss: 0.0048 - acc: 0.9986\n",
            "Epoch 13/20\n",
            "60000/60000 [==============================] - 82s 1ms/sample - loss: 0.0043 - acc: 0.9987\n",
            "Epoch 14/20\n",
            "60000/60000 [==============================] - 83s 1ms/sample - loss: 0.0050 - acc: 0.9984\n",
            "Epoch 15/20\n",
            "60000/60000 [==============================] - 82s 1ms/sample - loss: 0.0024 - acc: 0.9992\n",
            "Epoch 16/20\n",
            "16768/60000 [=======>......................] - ETA: 59s - loss: 0.0051 - acc: 0.9984"
          ],
          "name": "stdout"
        }
      ]
    }
  ]
}